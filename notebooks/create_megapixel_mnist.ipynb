{
 "cells": [
  {
   "cell_type": "markdown",
   "id": "6766c2de-25ed-4ca5-9554-18bee34f7458",
   "metadata": {},
   "source": [
    "Install pytorch and other dependencies. then,"
   ]
  },
  {
   "cell_type": "code",
   "execution_count": 26,
   "id": "ee12440d-4cc6-4c02-98d5-cf2ea8f44757",
   "metadata": {},
   "outputs": [
    {
     "name": "stdout",
     "output_type": "stream",
     "text": [
      "Obtaining file:///home/rave/megaseg\n",
      "  Preparing metadata (setup.py) ... \u001b[?25ldone\n",
      "\u001b[?25hRequirement already satisfied: click in /home/rave/miniconda3/lib/python3.8/site-packages (from megaseg==0.0.1) (7.1.2)\n",
      "Installing collected packages: megaseg\n",
      "  Attempting uninstall: megaseg\n",
      "    Found existing installation: megaseg 0.0.1\n",
      "    Uninstalling megaseg-0.0.1:\n",
      "      Successfully uninstalled megaseg-0.0.1\n",
      "  Running setup.py develop for megaseg\n",
      "Successfully installed megaseg-0.0.1\n"
     ]
    }
   ],
   "source": [
    "!pip install -e .."
   ]
  },
  {
   "cell_type": "code",
   "execution_count": 1,
   "id": "92ccb38a-5661-4d91-94d3-2084974d7dd5",
   "metadata": {},
   "outputs": [],
   "source": [
    "from os import path\n",
    "import numpy as np\n",
    "from megaseg.data import MegapixelMNIST\n",
    "import skimage as sk"
   ]
  },
  {
   "cell_type": "markdown",
   "id": "bc3115f2-8630-443c-94f1-5e96058a6356",
   "metadata": {},
   "source": [
    "https://pytorch.org/tutorials/beginner/basics/data_tutorial.html"
   ]
  },
  {
   "cell_type": "code",
   "execution_count": 21,
   "id": "6f3776d4-4f5b-404b-b811-eaf5e2a7f418",
   "metadata": {},
   "outputs": [],
   "source": [
    "\n",
    "import numpy as np\n",
    "import torch\n",
    "import torchvision\n",
    "from torchvision.transforms import ToTensor, Normalize, Compose\n",
    "from torchvision.datasets import MNIST\n",
    "import skimage.transform as transform\n",
    "\n",
    "class MegapixelMNIST(MNIST):\n",
    "    \"\"\"Load a Megapixel MNIST dataset. See make_mnist.py.\"\"\"\n",
    "\n",
    "    CLASSES = [0, 1, 2, 3, 4, 5, 6, 7, 8, 9]\n",
    "\n",
    "    def __init__(self, mega_size, resize, *args, **kwargs):\n",
    "        \n",
    "        super().__init__(*args, **kwargs)\n",
    "        self.big_size = mega_size\n",
    "        self.big_shape = (mega_size, mega_size)\n",
    "        self.resize = resize\n",
    "        if self.resize*28 > self.big_size-28:\n",
    "            raise ValueError(\"\"\"The resize parameter cannot be so large \n",
    "            that the 28x28 image is made larger than the big image shape - 28.\"\"\")\n",
    "        \n",
    "    def __getitem__(self, i):\n",
    "        \n",
    "        small_img, small_target = MNIST.__getitem__(self, i)\n",
    "        assert torch.is_tensor(small_img)\n",
    "        small_img = transform.resize(small_img.squeeze(), \n",
    "                                     (small_img.squeeze().shape[0] * self.resize, \n",
    "                                      small_img.squeeze().shape[1] * self.resize),\n",
    "                                     anti_aliasing=True)\n",
    "        # Placeholders\n",
    "        big_img = np.zeros(self.big_shape, dtype=np.float32)-1\n",
    "        # Fill the sparse representations\n",
    "        small_indices = np.argwhere(small_img)\n",
    "        xoffset = np.random.randint(0, self.big_size-28*self.resize)\n",
    "        yoffset = np.random.randint(0, self.big_size-28*self.resize)\n",
    "        big_img[yoffset:yoffset+small_img.shape[0], xoffset:xoffset+small_img.shape[1]] = small_img\n",
    "        big_img = torch.from_numpy(big_img)\n",
    "        # big_img = self.image_transform(big_img)\n",
    "        label = np.where(big_img>-1, 1, 0)\n",
    "        return big_img, label"
   ]
  },
  {
   "cell_type": "code",
   "execution_count": 22,
   "id": "8208b6f9-8829-4707-9d92-b349038056ad",
   "metadata": {},
   "outputs": [],
   "source": [
    "big_mnist = MegapixelMNIST(root='data', \n",
    "              train=True, \n",
    "              download= True,\n",
    "              mega_size = 300,\n",
    "              resize = 4,\n",
    "              transform=Compose([ToTensor(), Normalize(mean=(0.5,), std=(0.5,))]))"
   ]
  },
  {
   "cell_type": "code",
   "execution_count": 23,
   "id": "00fca8c7-8eee-4870-a5e7-5fbc65cb0970",
   "metadata": {},
   "outputs": [
    {
     "data": {
      "text/plain": [
       "<matplotlib.image.AxesImage at 0x7fc57b499160>"
      ]
     },
     "execution_count": 23,
     "metadata": {},
     "output_type": "execute_result"
    },
    {
     "data": {
      "image/png": "[encoded data removed]",
      "text/plain": [
       "<Figure size 432x288 with 2 Axes>"
      ]
     },
     "metadata": {
      "needs_background": "light"
     },
     "output_type": "display_data"
    }
   ],
   "source": [
    "sk.io.imshow(big_mnist[0][0].cpu().numpy())\n"
   ]
  },
  {
   "cell_type": "code",
   "execution_count": 24,
   "id": "0b5480c1-a50b-4bdc-9b1d-af9f2f80bd97",
   "metadata": {},
   "outputs": [
    {
     "data": {
      "text/plain": [
       "<matplotlib.image.AxesImage at 0x7fc57b3cd400>"
      ]
     },
     "execution_count": 24,
     "metadata": {},
     "output_type": "execute_result"
    },
    {
     "data": {
      "image/png": "[encoded data removed]",
      "text/plain": [
       "<Figure size 432x288 with 2 Axes>"
      ]
     },
     "metadata": {
      "needs_background": "light"
     },
     "output_type": "display_data"
    }
   ],
   "source": [
    "sk.io.imshow(big_mnist[0][1])"
   ]
  },
  {
   "cell_type": "markdown",
   "id": "5553f13f-83d3-4f1e-8bb6-cd5b57f0509c",
   "metadata": {},
   "source": [
    "Need to sparsify training and test sets"
   ]
  },
  {
   "cell_type": "code",
   "execution_count": null,
   "id": "8d9b8579-42f7-4051-834d-0dc5a97ed741",
   "metadata": {},
   "outputs": [],
   "source": [
    "data = sparsify(training)"
   ]
  },
  {
   "cell_type": "code",
   "execution_count": null,
   "id": "965ea05a-280c-4573-bf25-1439375f96a3",
   "metadata": {},
   "outputs": [],
   "source": [
    "output_directory=\"data/megaMNIST\""
   ]
  },
  {
   "cell_type": "markdown",
   "id": "37e2eee8-79bd-41cf-b15f-ea20f8cba019",
   "metadata": {},
   "source": [
    "api for old keras based megapixel mnist"
   ]
  },
  {
   "cell_type": "code",
   "execution_count": null,
   "id": "9152ef2a-3b40-41ef-8f6c-083705bfa5f7",
   "metadata": {},
   "outputs": [],
   "source": [
    "# Write the test set\n",
    "test = MegapixelMNIST(\n",
    "    N=args.n_test,\n",
    "    train=False,\n",
    "    W=args.width,\n",
    "    H=args.height,\n",
    "    scale=args.scale,\n",
    "    noise=args.noise,\n",
    "    seed=args.dataset_seed\n",
    ")\n",
    "data = sparsify(test)\n",
    "np.save(path.join(args.output_directory, \"test.npy\"), data)"
   ]
  },
  {
   "cell_type": "code",
   "execution_count": null,
   "id": "40f3e063-4e75-4f48-9736-13b41fbe39e1",
   "metadata": {},
   "outputs": [],
   "source": [
    "img, label = mnist[0]\n",
    "print('Label: ', label)\n",
    "print(img[:,10:15,10:15])\n",
    "torch.min(img), torch.max(img)"
   ]
  },
  {
   "cell_type": "code",
   "execution_count": null,
   "id": "80c74ba5-bc34-4853-8a69-83251db38a4d",
   "metadata": {},
   "outputs": [],
   "source": [
    "def denorm(x):\n",
    "    out = (x + 1) / 2\n",
    "    return out.clamp(0, 1)\n"
   ]
  },
  {
   "cell_type": "code",
   "execution_count": null,
   "id": "d161b52f-e90f-4597-8be8-117288b03b1f",
   "metadata": {},
   "outputs": [],
   "source": [
    "import matplotlib.pyplot as plt\n",
    "%matplotlib inline\n",
    "\n",
    "img_norm = denorm(img)\n",
    "plt.imshow(img_norm[0], cmap='gray')\n",
    "print('Label:', label)"
   ]
  },
  {
   "cell_type": "code",
   "execution_count": null,
   "id": "8797fe5a-70f2-4bc3-8716-36027fab4cf0",
   "metadata": {},
   "outputs": [],
   "source": [
    "from torch.utils.data import DataLoader\n",
    "\n",
    "batch_size = 100\n",
    "data_loader = DataLoader(mnist, batch_size, shuffle=True)"
   ]
  },
  {
   "cell_type": "code",
   "execution_count": null,
   "id": "71d876bf-b01f-491a-9d0d-67bd69fd58a0",
   "metadata": {},
   "outputs": [],
   "source": [
    "for img_batch, label_batch in data_loader:\n",
    "    print('first batch')\n",
    "    print(img_batch.shape)\n",
    "    plt.imshow(img_batch[0][0], cmap='gray')\n",
    "    print(label_batch)\n",
    "    break"
   ]
  }
 ],
 "metadata": {
  "kernelspec": {
   "display_name": "Python 3 (ipykernel)",
   "language": "python",
   "name": "python3"
  },
  "language_info": {
   "codemirror_mode": {
    "name": "ipython",
    "version": 3
   },
   "file_extension": ".py",
   "mimetype": "text/x-python",
   "name": "python",
   "nbconvert_exporter": "python",
   "pygments_lexer": "ipython3",
   "version": "3.8.12"
  }
 },
 "nbformat": 4,
 "nbformat_minor": 5
}
