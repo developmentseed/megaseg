{
 "cells": [
  {
   "cell_type": "code",
   "execution_count": null,
   "id": "6cc80613-fe1a-4aa2-8674-8f178ecf8bbf",
   "metadata": {},
   "outputs": [],
   "source": [
    "import torch\n",
    "import torchvision\n",
    "from torchvision.transforms import ToTensor, Normalize, Compose\n",
    "from torchvision.datasets import MNIST\n",
    "\n",
    "mnist = MNIST(root='data', \n",
    "              train=True, \n",
    "              download=True,\n",
    "              transform=Compose([ToTensor(), Normalize(mean=(0.5,), std=(0.5,))]))"
   ]
  },
  {
   "cell_type": "code",
   "execution_count": null,
   "id": "c2fcdf51-8599-41bb-ba96-ee306069e486",
   "metadata": {},
   "outputs": [],
   "source": [
    "mnist_test = MNIST(root='data', \n",
    "              train=False, \n",
    "              download=True,\n",
    "              transform=Compose([ToTensor(), Normalize(mean=(0.5,), std=(0.5,))]))"
   ]
  },
  {
   "cell_type": "code",
   "execution_count": null,
   "id": "c8fb4972-38e2-48ee-8f35-177705a3bc44",
   "metadata": {},
   "outputs": [],
   "source": [
    "from megaseg.data import MegapixelMNIST "
   ]
  },
  {
   "cell_type": "code",
   "execution_count": null,
   "id": "e57e5d31-84d9-4b26-af60-5ac613e1ef9c",
   "metadata": {},
   "outputs": [],
   "source": [
    "training = MegapixelMNIST(\n",
    "    train=True\n",
    ")"
   ]
  },
  {
   "cell_type": "code",
   "execution_count": null,
   "id": "3110f6cb-4c12-4d31-b981-6525d9c2192b",
   "metadata": {},
   "outputs": [],
   "source": [
    "data = sparsify(training)\n",
    "np.save(path.join(args.output_directory, \"train.npy\"), data)\n",
    "\n",
    "# Write the test set\n",
    "test = MegapixelMNIST(\n",
    "    N=args.n_test,\n",
    "    train=False,\n",
    "    W=args.width,\n",
    "    H=args.height,\n",
    "    scale=args.scale,\n",
    "    noise=args.noise,\n",
    "    seed=args.dataset_seed\n",
    ")\n",
    "data = sparsify(test)\n",
    "np.save(path.join(args.output_directory, \"test.npy\"), data)"
   ]
  },
  {
   "cell_type": "code",
   "execution_count": null,
   "id": "40f3e063-4e75-4f48-9736-13b41fbe39e1",
   "metadata": {},
   "outputs": [],
   "source": [
    "img, label = mnist[0]\n",
    "print('Label: ', label)\n",
    "print(img[:,10:15,10:15])\n",
    "torch.min(img), torch.max(img)"
   ]
  },
  {
   "cell_type": "code",
   "execution_count": null,
   "id": "80c74ba5-bc34-4853-8a69-83251db38a4d",
   "metadata": {},
   "outputs": [],
   "source": [
    "def denorm(x):\n",
    "    out = (x + 1) / 2\n",
    "    return out.clamp(0, 1)\n"
   ]
  },
  {
   "cell_type": "code",
   "execution_count": null,
   "id": "d161b52f-e90f-4597-8be8-117288b03b1f",
   "metadata": {},
   "outputs": [],
   "source": [
    "import matplotlib.pyplot as plt\n",
    "%matplotlib inline\n",
    "\n",
    "img_norm = denorm(img)\n",
    "plt.imshow(img_norm[0], cmap='gray')\n",
    "print('Label:', label)"
   ]
  },
  {
   "cell_type": "code",
   "execution_count": null,
   "id": "8797fe5a-70f2-4bc3-8716-36027fab4cf0",
   "metadata": {},
   "outputs": [],
   "source": [
    "from torch.utils.data import DataLoader\n",
    "\n",
    "batch_size = 100\n",
    "data_loader = DataLoader(mnist, batch_size, shuffle=True)"
   ]
  },
  {
   "cell_type": "code",
   "execution_count": null,
   "id": "71d876bf-b01f-491a-9d0d-67bd69fd58a0",
   "metadata": {},
   "outputs": [],
   "source": [
    "for img_batch, label_batch in data_loader:\n",
    "    print('first batch')\n",
    "    print(img_batch.shape)\n",
    "    plt.imshow(img_batch[0][0], cmap='gray')\n",
    "    print(label_batch)\n",
    "    break"
   ]
  },
  {
   "cell_type": "code",
   "execution_count": null,
   "id": "a8eb47b7-a1d2-4ec6-925e-34ec042b902d",
   "metadata": {},
   "outputs": [],
   "source": [
    "mnist"
   ]
  },
  {
   "cell_type": "code",
   "execution_count": null,
   "id": "354e0be1-07f0-4f0f-ae78-27f540229ed4",
   "metadata": {},
   "outputs": [],
   "source": []
  },
  {
   "cell_type": "code",
   "execution_count": null,
   "id": "e1a5038a-2767-46db-8d59-fa0dae61707e",
   "metadata": {},
   "outputs": [],
   "source": [
    "mnist.train_data.shape"
   ]
  },
  {
   "cell_type": "code",
   "execution_count": null,
   "id": "c0b06621-2a5a-4410-a557-2b357f9fa3aa",
   "metadata": {},
   "outputs": [],
   "source": []
  }
 ],
 "metadata": {
  "kernelspec": {
   "display_name": "Python 3 (ipykernel)",
   "language": "python",
   "name": "python3"
  },
  "language_info": {
   "codemirror_mode": {
    "name": "ipython",
    "version": 3
   },
   "file_extension": ".py",
   "mimetype": "text/x-python",
   "name": "python",
   "nbconvert_exporter": "python",
   "pygments_lexer": "ipython3",
   "version": "3.8.12"
  }
 },
 "nbformat": 4,
 "nbformat_minor": 5
}
